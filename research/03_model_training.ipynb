{
 "cells": [
  {
   "cell_type": "code",
   "execution_count": 1,
   "id": "b1d70972",
   "metadata": {},
   "outputs": [],
   "source": [
    "import os"
   ]
  },
  {
   "cell_type": "code",
   "execution_count": 2,
   "id": "7d6731bc",
   "metadata": {},
   "outputs": [],
   "source": [
    "os.chdir('../')"
   ]
  },
  {
   "cell_type": "code",
   "execution_count": 3,
   "id": "07351ba9",
   "metadata": {},
   "outputs": [
    {
     "data": {
      "text/plain": [
       "'d:\\\\learnbay\\\\DL PROjECTS\\\\Kidney-Disease-Classification-MLflow-DVC'"
      ]
     },
     "execution_count": 3,
     "metadata": {},
     "output_type": "execute_result"
    }
   ],
   "source": [
    "%pwd"
   ]
  },
  {
   "cell_type": "code",
   "execution_count": null,
   "id": "5723f77a",
   "metadata": {},
   "outputs": [],
   "source": []
  },
  {
   "cell_type": "code",
   "execution_count": 26,
   "id": "045347d0",
   "metadata": {},
   "outputs": [],
   "source": [
    "from dataclasses import dataclass\n",
    "from pathlib import Path\n",
    "\n",
    "\n",
    "@dataclass(frozen=True)\n",
    "class TrainingConfig:\n",
    "    root_dir: Path\n",
    "    trained_model_path: Path\n",
    "    updated_base_model_path: Path\n",
    "    training_data: Path\n",
    "    params_epochs: int\n",
    "    params_batch_size: int\n",
    "    params_is_augmentation: bool\n",
    "    params_image_size: list\n",
    "    params_learning_rate: int"
   ]
  },
  {
   "cell_type": "code",
   "execution_count": 6,
   "id": "2f874777",
   "metadata": {},
   "outputs": [
    {
     "name": "stdout",
     "output_type": "stream",
     "text": [
      "[2025-06-25 15:50:41,418: INFO: utils: NumExpr defaulting to 8 threads.]\n"
     ]
    }
   ],
   "source": [
    "from src.cnnClassifier.constants import *\n",
    "from src.cnnClassifier.utils.common import read_yaml, create_directories\n",
    "import tensorflow as tf"
   ]
  },
  {
   "cell_type": "code",
   "execution_count": 27,
   "id": "7c522907",
   "metadata": {},
   "outputs": [],
   "source": [
    "class ConfigurationManager:\n",
    "    def __init__(\n",
    "        self,\n",
    "        config_filepath = CONFIG_FILE_PATH,\n",
    "        params_filepath = PARAMS_FILE_PATH):\n",
    "\n",
    "        self.config = read_yaml(config_filepath)\n",
    "        self.params = read_yaml(params_filepath)\n",
    "\n",
    "        create_directories([self.config.artifacts_root])\n",
    "\n",
    "\n",
    "    \n",
    "    def get_training_config(self) -> TrainingConfig:\n",
    "        training = self.config.training\n",
    "        prepare_base_model = self.config.prepare_base_model\n",
    "        params = self.params\n",
    "        training_data = os.path.join(self.config.data_ingestion.unzip_dir, \"kidney-ct-scan-image\")\n",
    "        create_directories([\n",
    "            Path(training.root_dir)\n",
    "        ])\n",
    "\n",
    "        training_config = TrainingConfig(\n",
    "            root_dir=Path(training.root_dir),\n",
    "            trained_model_path=Path(training.training_model_path),\n",
    "            updated_base_model_path=Path(prepare_base_model.updated_base_model_path),\n",
    "            training_data=Path(training_data),\n",
    "            params_epochs=params.EPOCHS,\n",
    "            params_batch_size=params.BATCH_SIZE,\n",
    "            params_is_augmentation=params.AUGMENTATION,\n",
    "            params_image_size=params.IMAGE_SIZE,\n",
    "            params_learning_rate=params.LEARNING_RATE\n",
    "        )\n",
    "\n",
    "        return training_config\n",
    "    "
   ]
  },
  {
   "cell_type": "code",
   "execution_count": 10,
   "id": "b7f65232",
   "metadata": {},
   "outputs": [],
   "source": [
    "import os\n",
    "import urllib.request as request\n",
    "from zipfile import ZipFile\n",
    "import tensorflow as tf\n",
    "import time"
   ]
  },
  {
   "cell_type": "code",
   "execution_count": 28,
   "id": "ff2433d0",
   "metadata": {},
   "outputs": [],
   "source": [
    "# class Training:\n",
    "#     def __init__(self, config: TrainingConfig):\n",
    "#         self.config = config\n",
    "\n",
    "    \n",
    "#     def get_base_model(self):\n",
    "#         self.model = tf.keras.models.load_model(\n",
    "#             self.config.updated_base_model_path\n",
    "#         )\n",
    "\n",
    "#     def train_valid_generator(self):\n",
    "#         tf.config.run_functions_eagerly(True)\n",
    "#         datagenerator_kwargs = dict(\n",
    "#             rescale = 1./255,\n",
    "#             validation_split=0.20\n",
    "#         )\n",
    "\n",
    "#         dataflow_kwargs = dict(\n",
    "#             target_size=self.config.params_image_size[:-1],\n",
    "#             batch_size=self.config.params_batch_size,\n",
    "#             interpolation=\"bilinear\"\n",
    "#         )\n",
    "\n",
    "#         valid_datagenerator = tf.keras.preprocessing.image.ImageDataGenerator(\n",
    "#             **datagenerator_kwargs\n",
    "#         )\n",
    "\n",
    "#         self.valid_generator = valid_datagenerator.flow_from_directory(\n",
    "#             directory=self.config.training_data,\n",
    "#             subset=\"validation\",\n",
    "#             shuffle=False,\n",
    "#             **dataflow_kwargs\n",
    "#         )\n",
    "#         if self.config.params_is_augmentation:\n",
    "#             train_datagenerator = tf.keras.preprocessing.image.ImageDataGenerator(\n",
    "#                 rotation_range=40,\n",
    "#                 horizontal_flip=True,\n",
    "#                 width_shift_range=0.2,\n",
    "#                 height_shift_range=0.2,\n",
    "#                 shear_range=0.2,\n",
    "#                 zoom_range=0.2,\n",
    "#                 **datagenerator_kwargs\n",
    "#             )\n",
    "#         else:\n",
    "#             train_datagenerator = valid_datagenerator\n",
    "\n",
    "#         self.train_generator = train_datagenerator.flow_from_directory(\n",
    "#             directory=self.config.training_data,\n",
    "#             subset=\"training\",\n",
    "#             shuffle=True,\n",
    "#             **dataflow_kwargs\n",
    "#         )\n",
    "\n",
    "    \n",
    "#     @staticmethod\n",
    "#     def save_model(path: Path, model: tf.keras.Model):\n",
    "#         model.save(path)\n",
    "\n",
    "\n",
    "\n",
    "    \n",
    "#     def train(self):\n",
    "#         self.steps_per_epoch = self.train_generator.samples // self.train_generator.batch_size\n",
    "#         self.validation_steps = self.valid_generator.samples // self.valid_generator.batch_size\n",
    "\n",
    "#         self.model.fit(\n",
    "#             self.train_generator,\n",
    "#             epochs=self.config.params_epochs,\n",
    "#             steps_per_epoch=self.steps_per_epoch,\n",
    "#             validation_steps=self.validation_steps,\n",
    "#             validation_data=self.valid_generator\n",
    "#         )\n",
    "\n",
    "#         self.save_model(\n",
    "#             path=self.config.trained_model_path,\n",
    "#             model=self.model\n",
    "#         )        \n",
    "import tensorflow as tf\n",
    "from pathlib import Path\n",
    "\n",
    "class Training:\n",
    "    def __init__(self, config: TrainingConfig):\n",
    "        self.config = config\n",
    "\n",
    "    def get_base_model(self):\n",
    "        # Load the base model\n",
    "        self.model = tf.keras.models.load_model(self.config.updated_base_model_path)\n",
    "\n",
    "        # ✅ Recompile the model to attach a new optimizer\n",
    "        self.model.compile(\n",
    "            optimizer=tf.keras.optimizers.SGD(learning_rate=self.config.params_learning_rate),\n",
    "            loss=tf.keras.losses.CategoricalCrossentropy(),\n",
    "            metrics=[\"accuracy\"]\n",
    "        )\n",
    "\n",
    "    def train_valid_generator(self):\n",
    "        # ✅ Eager execution (optional for debugging)\n",
    "        tf.config.run_functions_eagerly(True)\n",
    "\n",
    "        datagenerator_kwargs = dict(\n",
    "            rescale=1./255,\n",
    "            validation_split=0.20\n",
    "        )\n",
    "\n",
    "        dataflow_kwargs = dict(\n",
    "            target_size=self.config.params_image_size[:-1],\n",
    "            batch_size=self.config.params_batch_size,\n",
    "            interpolation=\"bilinear\"\n",
    "        )\n",
    "\n",
    "        valid_datagenerator = tf.keras.preprocessing.image.ImageDataGenerator(\n",
    "            **datagenerator_kwargs\n",
    "        )\n",
    "\n",
    "        self.valid_generator = valid_datagenerator.flow_from_directory(\n",
    "            directory=self.config.training_data,\n",
    "            subset=\"validation\",\n",
    "            shuffle=False,\n",
    "            **dataflow_kwargs\n",
    "        )\n",
    "\n",
    "        if self.config.params_is_augmentation:\n",
    "            train_datagenerator = tf.keras.preprocessing.image.ImageDataGenerator(\n",
    "                rotation_range=40,\n",
    "                horizontal_flip=True,\n",
    "                width_shift_range=0.2,\n",
    "                height_shift_range=0.2,\n",
    "                shear_range=0.2,\n",
    "                zoom_range=0.2,\n",
    "                **datagenerator_kwargs\n",
    "            )\n",
    "        else:\n",
    "            train_datagenerator = valid_datagenerator\n",
    "\n",
    "        self.train_generator = train_datagenerator.flow_from_directory(\n",
    "            directory=self.config.training_data,\n",
    "            subset=\"training\",\n",
    "            shuffle=True,\n",
    "            **dataflow_kwargs\n",
    "        )\n",
    "\n",
    "    @staticmethod\n",
    "    def save_model(path: Path, model: tf.keras.Model):\n",
    "        model.save(path)\n",
    "\n",
    "    def train(self):\n",
    "        self.steps_per_epoch = self.train_generator.samples // self.train_generator.batch_size\n",
    "        self.validation_steps = self.valid_generator.samples // self.valid_generator.batch_size\n",
    "\n",
    "        self.model.fit(\n",
    "            self.train_generator,\n",
    "            epochs=self.config.params_epochs,\n",
    "            steps_per_epoch=self.steps_per_epoch,\n",
    "            validation_steps=self.validation_steps,\n",
    "            validation_data=self.valid_generator\n",
    "        )\n",
    "\n",
    "        self.save_model(\n",
    "            path=self.config.trained_model_path,\n",
    "            model=self.model\n",
    "        )\n"
   ]
  },
  {
   "cell_type": "code",
   "execution_count": 29,
   "id": "7ca6d312",
   "metadata": {},
   "outputs": [
    {
     "name": "stdout",
     "output_type": "stream",
     "text": [
      "[2025-06-25 16:21:14,004: INFO: common: yaml file: config\\config.yaml loaded successfully]\n",
      "[2025-06-25 16:21:14,007: INFO: common: yaml file: params.yaml loaded successfully]\n",
      "[2025-06-25 16:21:14,009: INFO: common: created directory at: artifacts]\n",
      "[2025-06-25 16:21:14,011: INFO: common: created directory at: artifacts\\training]\n",
      "[2025-06-25 16:21:19,564: WARNING: saving_utils: Compiled the loaded model, but the compiled metrics have yet to be built. `model.compile_metrics` will be empty until you train or evaluate the model.]\n",
      "Found 93 images belonging to 2 classes.\n",
      "Found 372 images belonging to 2 classes.\n"
     ]
    },
    {
     "name": "stderr",
     "output_type": "stream",
     "text": [
      "c:\\Users\\hp\\anaconda3\\Lib\\site-packages\\keras\\src\\trainers\\data_adapters\\py_dataset_adapter.py:121: UserWarning: Your `PyDataset` class should call `super().__init__(**kwargs)` in its constructor. `**kwargs` can include `workers`, `use_multiprocessing`, `max_queue_size`. Do not pass these arguments to `fit()`, as they will be ignored.\n",
      "  self._warn_if_super_not_called()\n",
      "c:\\Users\\hp\\anaconda3\\Lib\\site-packages\\tensorflow\\python\\data\\ops\\structured_function.py:258: UserWarning: Even though the `tf.config.experimental_run_functions_eagerly` option is set, this option does not apply to tf.data functions. To force eager execution of tf.data functions, please use `tf.data.experimental.enable_debug_mode()`.\n",
      "  warnings.warn(\n"
     ]
    },
    {
     "name": "stdout",
     "output_type": "stream",
     "text": [
      "\u001b[1m23/23\u001b[0m \u001b[32m━━━━━━━━━━━━━━━━━━━━\u001b[0m\u001b[37m\u001b[0m \u001b[1m251s\u001b[0m 8s/step - accuracy: 0.5064 - loss: 13.0974 - val_accuracy: 0.4750 - val_loss: 20.7329\n",
      "[2025-06-25 16:26:15,900: WARNING: saving_api: You are saving your model as an HDF5 file via `model.save()` or `keras.saving.save_model(model)`. This file format is considered legacy. We recommend using instead the native Keras format, e.g. `model.save('my_model.keras')` or `keras.saving.save_model(model, 'my_model.keras')`. ]\n"
     ]
    }
   ],
   "source": [
    "try:\n",
    "    config = ConfigurationManager()\n",
    "    training_config = config.get_training_config()\n",
    "    training = Training(config=training_config)\n",
    "    training.get_base_model()\n",
    "    training.train_valid_generator()\n",
    "    training.train()\n",
    "    \n",
    "except Exception as e:\n",
    "    raise e"
   ]
  },
  {
   "cell_type": "code",
   "execution_count": null,
   "id": "6f169855",
   "metadata": {},
   "outputs": [],
   "source": []
  }
 ],
 "metadata": {
  "kernelspec": {
   "display_name": "base",
   "language": "python",
   "name": "python3"
  },
  "language_info": {
   "codemirror_mode": {
    "name": "ipython",
    "version": 3
   },
   "file_extension": ".py",
   "mimetype": "text/x-python",
   "name": "python",
   "nbconvert_exporter": "python",
   "pygments_lexer": "ipython3",
   "version": "3.12.7"
  }
 },
 "nbformat": 4,
 "nbformat_minor": 5
}
